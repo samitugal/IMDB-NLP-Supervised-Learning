{
 "cells": [
  {
   "cell_type": "markdown",
   "id": "230d3ee3",
   "metadata": {},
   "source": [
    "# IMDB Review Analysis with NLP"
   ]
  },
  {
   "cell_type": "code",
   "execution_count": 1,
   "id": "70e7415d",
   "metadata": {},
   "outputs": [],
   "source": [
    "import pandas as pd\n",
    "import numpy as np\n",
    "import nltk\n",
    "import string\n",
    "import re\n",
    "import keras\n",
    "import matplotlib.pyplot as plt\n",
    "from nltk.corpus import stopwords\n",
    "from sklearn.feature_extraction.text import CountVectorizer\n",
    "from sklearn.model_selection import train_test_split\n",
    "from sklearn.metrics import confusion_matrix\n",
    "from sklearn import preprocessing"
   ]
  },
  {
   "cell_type": "markdown",
   "id": "7dcd53cc",
   "metadata": {},
   "source": [
    "# Read and Clean Data Set"
   ]
  },
  {
   "cell_type": "code",
   "execution_count": 2,
   "id": "7304c642",
   "metadata": {},
   "outputs": [],
   "source": [
    "dataSet = pd.read_csv(\"imdb.csv\")\n",
    "reviews = dataSet.iloc[:,0]\n",
    "sentiments = dataSet.iloc[:,1]\n",
    "\n",
    "labelEncoder = preprocessing.LabelEncoder()\n",
    "\n",
    "labels = labelEncoder.fit_transform(sentiments)\n",
    "\n",
    "del dataSet[\"sentiment\"]\n",
    "dataSet[\"labels\"] = labels"
   ]
  },
  {
   "cell_type": "code",
   "execution_count": 3,
   "id": "c70c7149",
   "metadata": {},
   "outputs": [
    {
     "name": "stderr",
     "output_type": "stream",
     "text": [
      "[nltk_data] Downloading package stopwords to\n",
      "[nltk_data]     C:\\Users\\samit\\AppData\\Roaming\\nltk_data...\n",
      "[nltk_data]   Package stopwords is already up-to-date!\n"
     ]
    }
   ],
   "source": [
    "nltk.download('stopwords')\n",
    "stopwords = set(stopwords.words(\"english\"))\n",
    "punctuation = list(string.punctuation)\n",
    "stopwords.update(punctuation)"
   ]
  },
  {
   "cell_type": "code",
   "execution_count": 4,
   "id": "186ee4b2",
   "metadata": {},
   "outputs": [],
   "source": [
    "LINECOUNT = len(dataSet)\n",
    "\n",
    "def cleanText(text):\n",
    "    newText = []\n",
    "    text = text.lower()\n",
    "    text = re.sub('[^a-zA-Z]' , \" \" , text)\n",
    "    \n",
    "    for i in text.split():\n",
    "        if i.strip() not in stopwords:\n",
    "            newText.append(i.strip())\n",
    "    \n",
    "    return \" \".join(newText)\n",
    "\n",
    "array = []\n",
    "\n",
    "for i in range(0 , LINECOUNT):\n",
    "    text = cleanText(dataSet[\"review\"][i])\n",
    "    array.append(text)"
   ]
  },
  {
   "cell_type": "code",
   "execution_count": 5,
   "id": "161fc7d4",
   "metadata": {},
   "outputs": [],
   "source": [
    "countVectorizer = CountVectorizer(max_features=5000)\n",
    "X = countVectorizer.fit_transform(array).toarray()\n",
    "Y = dataSet.iloc[:,1].values\n",
    "\n",
    "x_train , x_test , y_train , y_test = train_test_split(X,Y,test_size=0.25 , random_state=0)"
   ]
  },
  {
   "cell_type": "markdown",
   "id": "69aedbc9",
   "metadata": {},
   "source": [
    "# Machine Learning Model"
   ]
  },
  {
   "cell_type": "code",
   "execution_count": 6,
   "id": "f6cc45ff",
   "metadata": {},
   "outputs": [
    {
     "name": "stdout",
     "output_type": "stream",
     "text": [
      "Epoch 1/7\n",
      "1172/1172 [==============================] - 73s 62ms/step - loss: 0.3213 - binary_accuracy: 0.8657\n",
      "Epoch 2/7\n",
      "1172/1172 [==============================] - 72s 61ms/step - loss: 0.1621 - binary_accuracy: 0.9384\n",
      "Epoch 3/7\n",
      "1172/1172 [==============================] - 72s 61ms/step - loss: 0.0287 - binary_accuracy: 0.9903\n",
      "Epoch 4/7\n",
      "1172/1172 [==============================] - 71s 60ms/step - loss: 0.0120 - binary_accuracy: 0.9964\n",
      "Epoch 5/7\n",
      "1172/1172 [==============================] - 77s 66ms/step - loss: 0.0071 - binary_accuracy: 0.9981\n",
      "Epoch 6/7\n",
      "1172/1172 [==============================] - 76s 64ms/step - loss: 0.0107 - binary_accuracy: 0.9965\n",
      "Epoch 7/7\n",
      "1172/1172 [==============================] - 72s 62ms/step - loss: 0.0057 - binary_accuracy: 0.9984\n"
     ]
    },
    {
     "data": {
      "text/plain": [
       "<tensorflow.python.keras.callbacks.History at 0x140f2c2fc70>"
      ]
     },
     "execution_count": 6,
     "metadata": {},
     "output_type": "execute_result"
    }
   ],
   "source": [
    "from keras.models import Sequential\n",
    "from keras.layers import Dense\n",
    "\n",
    "EPOCHS = 7\n",
    "\n",
    "classifier = Sequential()\n",
    "classifier.add(Dense(2000 , activation='relu', input_dim = 5000 , name = \"input-layer\"))\n",
    "classifier.add(Dense(2000 , activation='relu', name = \"hidden-layer\"))\n",
    "classifier.add(Dense(1 , activation=\"sigmoid\" , name = \"output-layer\"))\n",
    "\n",
    "classifier.compile(optimizer = \"adam\" , loss = \"binary_crossentropy\" , metrics=['binary_accuracy'] )\n",
    "\n",
    "classifier.fit(x_train , y_train , epochs = EPOCHS)"
   ]
  },
  {
   "cell_type": "markdown",
   "id": "e43b7b6c",
   "metadata": {},
   "source": [
    "# Confussion Matrix"
   ]
  },
  {
   "cell_type": "markdown",
   "id": "304a7e6f",
   "metadata": {},
   "source": [
    "Create a confussion matrix object to understand results better and print succes rate."
   ]
  },
  {
   "cell_type": "code",
   "execution_count": 7,
   "id": "6ac07c8f",
   "metadata": {},
   "outputs": [
    {
     "name": "stdout",
     "output_type": "stream",
     "text": [
      "[[5523  768]\n",
      " [ 733 5476]]\n",
      "\n",
      "Succes Rate : % 87.992\n"
     ]
    }
   ],
   "source": [
    "results = classifier.predict(x_test)\n",
    "results = (results > 0.5)\n",
    "\n",
    "result_confmatrix = confusion_matrix(y_test , results)\n",
    "print(result_confmatrix)\n",
    "print(\"\")\n",
    "\n",
    "truePred = result_confmatrix[0][0] + result_confmatrix[1][1]\n",
    "falsePred = result_confmatrix[0][1] + result_confmatrix[1][0]\n",
    "\n",
    "print(\"Succes Rate : %\" , (truePred / (truePred + falsePred)) * 100)"
   ]
  },
  {
   "cell_type": "markdown",
   "id": "1438fb7d",
   "metadata": {},
   "source": [
    "# Data Visualiziton"
   ]
  },
  {
   "cell_type": "code",
   "execution_count": 8,
   "id": "0b643b39",
   "metadata": {
    "scrolled": true
   },
   "outputs": [
    {
     "data": {
      "image/png": "[encoded data removed]",
      "text/plain": [
       "<Figure size 432x288 with 1 Axes>"
      ]
     },
     "metadata": {
      "needs_background": "light"
     },
     "output_type": "display_data"
    }
   ],
   "source": [
    "plt.bar([0.25] , [truePred] , label = \"True Predictions\" , width=1 , color = \"green\")\n",
    "plt.bar([1.50] , [falsePred] , label = \"False Predictions\" , width=1 , color = \"red\")\n",
    "plt.legend()\n",
    "plt.ylabel('Prediction Results')\n",
    "plt.title('Deep Learning Predictions')\n",
    "plt.show()"
   ]
  },
  {
   "cell_type": "code",
   "execution_count": null,
   "id": "e40f1ecc",
   "metadata": {},
   "outputs": [],
   "source": []
  }
 ],
 "metadata": {
  "kernelspec": {
   "display_name": "Python 3",
   "language": "python",
   "name": "python3"
  },
  "language_info": {
   "codemirror_mode": {
    "name": "ipython",
    "version": 3
   },
   "file_extension": ".py",
   "mimetype": "text/x-python",
   "name": "python",
   "nbconvert_exporter": "python",
   "pygments_lexer": "ipython3",
   "version": "3.8.8"
  }
 },
 "nbformat": 4,
 "nbformat_minor": 5
}
